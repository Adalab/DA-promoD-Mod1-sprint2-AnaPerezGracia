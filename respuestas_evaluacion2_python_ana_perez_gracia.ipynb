{
 "cells": [
  {
   "cell_type": "code",
   "execution_count": 111,
   "metadata": {},
   "outputs": [
    {
     "name": "stdout",
     "output_type": "stream",
     "text": [
      "<class 'str'>\n",
      "Project Gutenberg Etext of Don Quijote, by Cervantes, in Spanish #2 in our series by Cervantes We will be presenting two versions of this, one in HTML and one in\n",
      "2143293\n"
     ]
    }
   ],
   "source": [
    "\n",
    "\n",
    "\n",
    "# Empezamos importando la librería os (sistema operativo). \n",
    "import os\n",
    "\n",
    "# Declaramos la clase y la llamamos Ejercicio, en mayúscula, por convención. Debe tomar dos parámetros.\n",
    "class Ejercicio:\n",
    "\n",
    "    # El método constructor es lo que crea la clase en sí. Lo podemos identificar por el __init__.\n",
    "    # Introducimos el self por primera vez, y los dos parámetros (el self no es un parámetro, aunque lo parezca).\n",
    "    # Usando el self definimos que los parámetros se vinculan a la clase. \n",
    "    def __init__(self, ruta, quijote_txt):\n",
    "        self.ruta = ruta\n",
    "        self.quijote_txt = quijote_txt\n",
    "\n",
    "    # El primer método asigna la ruta al archivo, lo carga y lo abre. \n",
    "    # La \"r\" es el parámetro que nos permite leer el archivo.\n",
    "    # Necesitamos especificar el encoding como \"latin1\" para abrir correctamente el archivo.\n",
    "    # Estas son condiciones generales de todos los métodos que usaremos en el ejercicio. \n",
    "    # Llamamos lectura al archivo.\n",
    "    # \n",
    "    def metodo_palabras(self, numero_de_palabras):\n",
    "        ruta_completa = os.path.join(self.ruta, self.quijote_txt)\n",
    "        with open(ruta_completa, \"r\", encoding = \"latin-1\") as lectura:\n",
    "            contenido_lectura = lectura.read()\n",
    "            print(type(contenido_lectura))\n",
    "            # Si recibimos un valor que no sea un integer imprimiremos un mensaje de error. \n",
    "            # Usamos el método type para averiguarlo.\n",
    "            if type(numero_de_palabras) != int: \n",
    "                print('NooOOooOOOOOO, ¡eso no es un número!')\n",
    "        \n",
    "            # Aquí abrimos el archivo como un único string usando los métodos split y join.\n",
    "            # Usamos el start stop step para que el método split separe los strings, \n",
    "            # el join los una usando espacios en blanco y lo imprimimos en pantalla. \n",
    "            else:\n",
    "                lista_contenidos = contenido_lectura.split()\n",
    "                string_de_lista = \" \".join(lista_contenidos[:numero_de_palabras])\n",
    "                print(string_de_lista)\n",
    "\n",
    "    def metodo_lineas(self):\n",
    "        ruta_completa = os.path.join(self.ruta, self.quijote_txt)\n",
    "        with open(ruta_completa, \"r\", encoding = \"latin-1\") as lectura:\n",
    "            \n",
    "             # Con este método queremos preguntar al usuario cuántas líneas quiere leer, usando un input.\n",
    "            lineas_deseadas_usuario = input('¿Cuántas líneas te apetece leer hoy?')\n",
    "            # Si el método recibe el input 'todas' imprimiremos la totalidad del archivo.\n",
    "            # Usando lower() y escribiendo 'todas' en minúscula conseguimos que el input no sea case sensitive.\n",
    "            if lineas_deseadas_usuario.lower() == 'todas':\n",
    "                print(lectura.readlines())\n",
    "                return\n",
    "            # El control de errores se activa si recibimos un valor diferente a un integer. \n",
    "            try:\n",
    "                lineas_deseadas_usuario = int(lineas_deseadas_usuario)\n",
    "            except ValueError:\n",
    "                # Preguntamos al usuario si puede volver a intentarlo, guiándolo para evitar más errores.\n",
    "                print('Lo siento, ¿puedes decirme un número entero?')\n",
    "                return\n",
    "            # El for loop itera la variable que almacena el número de líneas de texto que el usuario quiere leer.\n",
    "            # Las imprimimos con un print().\n",
    "            for i in range(lineas_deseadas_usuario):\n",
    "                linea = lectura.readline()\n",
    "                print(linea)\n",
    "\n",
    "    def metodo_quijote(self):\n",
    "        ruta_completa = os.path.join(self.ruta, self.quijote_txt)\n",
    "        with open(ruta_completa, \"r\", encoding = \"latin-1\") as lectura:\n",
    "            # Creamos un método que nos muestre el texto de principio a fin sin la introducción.\n",
    "            # Usamos enumerate() para mostrar únicamente el contenido entre las líneas 1780 y 74276.\n",
    "            for i, linea in enumerate(lectura):\n",
    "                if i >=1780 and i <= 74276:\n",
    "                    print(i)\n",
    "                    print(linea)\n",
    "                elif i > 74276:\n",
    "                    break\n",
    "    \n",
    "    def metodo_find(self):\n",
    "        ruta_completa = os.path.join(self.ruta, self.quijote_txt)\n",
    "        with open(ruta_completa, \"r\", encoding = \"latin-1\") as lectura:\n",
    "            # Creamos un método para encontrar e imprimir pantallas. De nuevo lo hacemos no case sensitive. \n",
    "            palabra_deseada = input('¿Qué palabra quieres que encuentre?').lower()\n",
    "            content = lectura.read()\n",
    "            print(content.lower().count(palabra_deseada))\n",
    "                \n",
    "e = Ejercicio('./Data', 'quijote.txt')\n",
    "\n",
    "#e.metodo_palabras(30)\n",
    "#e.metodo_lineas()\n",
    "#e.metodo_quijote()\n",
    "#e.metodo_find()"
   ]
  },
  {
   "cell_type": "code",
   "execution_count": null,
   "metadata": {},
   "outputs": [],
   "source": [
    "\n"
   ]
  }
 ],
 "metadata": {
  "kernelspec": {
   "display_name": "Python 3",
   "language": "python",
   "name": "python3"
  },
  "language_info": {
   "codemirror_mode": {
    "name": "ipython",
    "version": 3
   },
   "file_extension": ".py",
   "mimetype": "text/x-python",
   "name": "python",
   "nbconvert_exporter": "python",
   "pygments_lexer": "ipython3",
   "version": "3.9.6"
  },
  "orig_nbformat": 4,
  "vscode": {
   "interpreter": {
    "hash": "31f2aee4e71d21fbe5cf8b01ff0e069b9275f58929596ceb00d14d90e3e16cd6"
   }
  }
 },
 "nbformat": 4,
 "nbformat_minor": 2
}
